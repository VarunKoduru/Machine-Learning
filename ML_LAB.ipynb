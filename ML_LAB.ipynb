{
  "nbformat": 4,
  "nbformat_minor": 0,
  "metadata": {
    "colab": {
      "provenance": [],
      "authorship_tag": "ABX9TyMEO/+VM6VAg0fav+6L4mmi",
      "include_colab_link": true
    },
    "kernelspec": {
      "name": "python3",
      "display_name": "Python 3"
    },
    "language_info": {
      "name": "python"
    }
  },
  "cells": [
    {
      "cell_type": "markdown",
      "metadata": {
        "id": "view-in-github",
        "colab_type": "text"
      },
      "source": [
        "<a href=\"https://colab.research.google.com/github/VarunKoduru/Machine-Learning/blob/main/ML_LAB.ipynb\" target=\"_parent\"><img src=\"https://colab.research.google.com/assets/colab-badge.svg\" alt=\"Open In Colab\"/></a>"
      ]
    },
    {
      "cell_type": "code",
      "execution_count": null,
      "metadata": {
        "colab": {
          "base_uri": "https://localhost:8080/"
        },
        "id": "HgzWUvrD5aKS",
        "outputId": "3b39ea75-e5ef-40df-f3e2-f681a259fe7b"
      },
      "outputs": [
        {
          "output_type": "stream",
          "name": "stdout",
          "text": [
            "[1 3 5 7 9]\n"
          ]
        }
      ],
      "source": [
        "import numpy as np\n",
        "n = np.arange(11)\n",
        "n2 = n[n%2 != 0]\n",
        "print(n2)"
      ]
    },
    {
      "cell_type": "code",
      "source": [
        "n = np.arange(9).reshape(3,3)\n",
        "normal = (n-np.mean(n))/np.std(n)\n",
        "print(normal)"
      ],
      "metadata": {
        "colab": {
          "base_uri": "https://localhost:8080/"
        },
        "id": "bL45BJCK62gr",
        "outputId": "6e62537c-5f9c-4573-a856-e0917623a6ab"
      },
      "execution_count": null,
      "outputs": [
        {
          "output_type": "stream",
          "name": "stdout",
          "text": [
            "[[-1.54919334 -1.161895   -0.77459667]\n",
            " [-0.38729833  0.          0.38729833]\n",
            " [ 0.77459667  1.161895    1.54919334]]\n"
          ]
        }
      ]
    },
    {
      "cell_type": "code",
      "source": [
        "print(n)\n",
        "print(np.trace(n))"
      ],
      "metadata": {
        "colab": {
          "base_uri": "https://localhost:8080/"
        },
        "id": "zTUfPJ6m7GV2",
        "outputId": "b8a72c29-7cc9-4a1a-8142-41a2648434c2"
      },
      "execution_count": null,
      "outputs": [
        {
          "output_type": "stream",
          "name": "stdout",
          "text": [
            "[[0 1 2]\n",
            " [3 4 5]\n",
            " [6 7 8]]\n",
            "12\n"
          ]
        }
      ]
    },
    {
      "cell_type": "code",
      "source": [
        "a = np.array([1,2,0,0,4,0])\n",
        "print(np.nonzero(a))"
      ],
      "metadata": {
        "colab": {
          "base_uri": "https://localhost:8080/"
        },
        "id": "M2Dg1TR57gyZ",
        "outputId": "fa33e47d-ece1-40f2-d26b-7cdf6f43ea00"
      },
      "execution_count": null,
      "outputs": [
        {
          "output_type": "stream",
          "name": "stdout",
          "text": [
            "(array([0, 1, 4]),)\n"
          ]
        }
      ]
    },
    {
      "cell_type": "code",
      "source": [
        "n = np.eye(3,3)\n",
        "print(n)"
      ],
      "metadata": {
        "colab": {
          "base_uri": "https://localhost:8080/"
        },
        "id": "WdjnIzhA742t",
        "outputId": "c29514ec-3071-413a-c10e-8bd45ce18a9a"
      },
      "execution_count": null,
      "outputs": [
        {
          "output_type": "stream",
          "name": "stdout",
          "text": [
            "[[1. 0. 0.]\n",
            " [0. 1. 0.]\n",
            " [0. 0. 1.]]\n"
          ]
        }
      ]
    },
    {
      "cell_type": "code",
      "source": [
        "# Date: 25th July 2025\n",
        "from sklearn import datasets\n",
        "from sklearn.model_selection import train_test_split\n",
        "from sklearn.ensemble import RandomForestClassifier\n",
        "from sklearn.metrics import accuracy_score\n",
        "\n",
        "iris = datasets.load_iris()\n",
        "X = iris.data\n",
        "y = iris.target\n",
        "\n",
        "X.shape\n",
        "# print(X[:5])\n",
        "col = iris.feature_names\n",
        "print(iris.data.shape)\n",
        "print(iris.keys())\n",
        "print(iris.DESCR)\n",
        "print(col)\n"
      ],
      "metadata": {
        "colab": {
          "base_uri": "https://localhost:8080/"
        },
        "id": "xVD1feSws88b",
        "outputId": "20f085e6-6166-4841-cddb-88f28d7a31c0"
      },
      "execution_count": 12,
      "outputs": [
        {
          "output_type": "stream",
          "name": "stdout",
          "text": [
            "(150, 4)\n",
            "dict_keys(['data', 'target', 'frame', 'target_names', 'DESCR', 'feature_names', 'filename', 'data_module'])\n",
            ".. _iris_dataset:\n",
            "\n",
            "Iris plants dataset\n",
            "--------------------\n",
            "\n",
            "**Data Set Characteristics:**\n",
            "\n",
            ":Number of Instances: 150 (50 in each of three classes)\n",
            ":Number of Attributes: 4 numeric, predictive attributes and the class\n",
            ":Attribute Information:\n",
            "    - sepal length in cm\n",
            "    - sepal width in cm\n",
            "    - petal length in cm\n",
            "    - petal width in cm\n",
            "    - class:\n",
            "            - Iris-Setosa\n",
            "            - Iris-Versicolour\n",
            "            - Iris-Virginica\n",
            "\n",
            ":Summary Statistics:\n",
            "\n",
            "============== ==== ==== ======= ===== ====================\n",
            "                Min  Max   Mean    SD   Class Correlation\n",
            "============== ==== ==== ======= ===== ====================\n",
            "sepal length:   4.3  7.9   5.84   0.83    0.7826\n",
            "sepal width:    2.0  4.4   3.05   0.43   -0.4194\n",
            "petal length:   1.0  6.9   3.76   1.76    0.9490  (high!)\n",
            "petal width:    0.1  2.5   1.20   0.76    0.9565  (high!)\n",
            "============== ==== ==== ======= ===== ====================\n",
            "\n",
            ":Missing Attribute Values: None\n",
            ":Class Distribution: 33.3% for each of 3 classes.\n",
            ":Creator: R.A. Fisher\n",
            ":Donor: Michael Marshall (MARSHALL%PLU@io.arc.nasa.gov)\n",
            ":Date: July, 1988\n",
            "\n",
            "The famous Iris database, first used by Sir R.A. Fisher. The dataset is taken\n",
            "from Fisher's paper. Note that it's the same as in R, but not as in the UCI\n",
            "Machine Learning Repository, which has two wrong data points.\n",
            "\n",
            "This is perhaps the best known database to be found in the\n",
            "pattern recognition literature.  Fisher's paper is a classic in the field and\n",
            "is referenced frequently to this day.  (See Duda & Hart, for example.)  The\n",
            "data set contains 3 classes of 50 instances each, where each class refers to a\n",
            "type of iris plant.  One class is linearly separable from the other 2; the\n",
            "latter are NOT linearly separable from each other.\n",
            "\n",
            ".. dropdown:: References\n",
            "\n",
            "  - Fisher, R.A. \"The use of multiple measurements in taxonomic problems\"\n",
            "    Annual Eugenics, 7, Part II, 179-188 (1936); also in \"Contributions to\n",
            "    Mathematical Statistics\" (John Wiley, NY, 1950).\n",
            "  - Duda, R.O., & Hart, P.E. (1973) Pattern Classification and Scene Analysis.\n",
            "    (Q327.D83) John Wiley & Sons.  ISBN 0-471-22361-1.  See page 218.\n",
            "  - Dasarathy, B.V. (1980) \"Nosing Around the Neighborhood: A New System\n",
            "    Structure and Classification Rule for Recognition in Partially Exposed\n",
            "    Environments\".  IEEE Transactions on Pattern Analysis and Machine\n",
            "    Intelligence, Vol. PAMI-2, No. 1, 67-71.\n",
            "  - Gates, G.W. (1972) \"The Reduced Nearest Neighbor Rule\".  IEEE Transactions\n",
            "    on Information Theory, May 1972, 431-433.\n",
            "  - See also: 1988 MLC Proceedings, 54-64.  Cheeseman et al\"s AUTOCLASS II\n",
            "    conceptual clustering system finds 3 classes in the data.\n",
            "  - Many, many more ...\n",
            "\n",
            "['sepal length (cm)', 'sepal width (cm)', 'petal length (cm)', 'petal width (cm)']\n"
          ]
        }
      ]
    },
    {
      "cell_type": "code",
      "source": [
        "import pandas as pd\n",
        "import numpy as np\n",
        "import matplotlib.pyplot as plt\n",
        "import seaborn as sns\n",
        "from sklearn.datasets import load_iris\n",
        "\n",
        "\n",
        "\n",
        "# Load dataset from scikit-learn\n",
        "iris = load_iris()\n",
        "\n",
        "# Convert to DataFrame and add Species column\n",
        "df = pd.DataFrame(data=iris.data, columns=iris.feature_names)\n",
        "df['Species'] = pd.Categorical.from_codes(iris.target, iris.target_names)\n",
        "\n",
        "# Add Id column (1-150)\n",
        "df.insert(0, 'Id', range(1, len(df) + 1))"
      ],
      "metadata": {
        "id": "mRGeEYzH0p_r"
      },
      "execution_count": 17,
      "outputs": []
    },
    {
      "cell_type": "code",
      "source": [
        "from sklearn.datasets import load_iris\n",
        "\n",
        "iris = load_iris()\n",
        "print(\"Keys:\", iris.keys())\n",
        "print(\"Number of rows & columns:\", iris.data.shape)\n",
        "print(\"Feature Names:\", iris.feature_names)\n",
        "print(\"Description:\\n\", iris.DESCR[:500])"
      ],
      "metadata": {
        "colab": {
          "base_uri": "https://localhost:8080/"
        },
        "id": "gARwbOwpr-Lx",
        "outputId": "29e88b73-ada6-4e44-f630-24bab427f219"
      },
      "execution_count": 18,
      "outputs": [
        {
          "output_type": "stream",
          "name": "stdout",
          "text": [
            "Keys: dict_keys(['data', 'target', 'frame', 'target_names', 'DESCR', 'feature_names', 'filename', 'data_module'])\n",
            "Number of rows & columns: (150, 4)\n",
            "Feature Names: ['sepal length (cm)', 'sepal width (cm)', 'petal length (cm)', 'petal width (cm)']\n",
            "Description:\n",
            " .. _iris_dataset:\n",
            "\n",
            "Iris plants dataset\n",
            "--------------------\n",
            "\n",
            "**Data Set Characteristics:**\n",
            "\n",
            ":Number of Instances: 150 (50 in each of three classes)\n",
            ":Number of Attributes: 4 numeric, predictive attributes and the class\n",
            ":Attribute Information:\n",
            "    - sepal length in cm\n",
            "    - sepal width in cm\n",
            "    - petal length in cm\n",
            "    - petal width in cm\n",
            "    - class:\n",
            "            - Iris-Setosa\n",
            "            - Iris-Versicolour\n",
            "            - Iris-Virginica\n",
            "\n",
            ":Summary Statistics:\n",
            "\n",
            "============== ==== ==== ======= =====\n"
          ]
        }
      ]
    },
    {
      "cell_type": "code",
      "source": [
        "print(\"Number of observations:\", len(df))\n",
        "print(\"Missing values per column:\\n\", df.isnull().sum())#3)"
      ],
      "metadata": {
        "colab": {
          "base_uri": "https://localhost:8080/"
        },
        "id": "JvmEEf9JsCUo",
        "outputId": "87663c15-c673-4e23-b8ba-0b58eb04e26e"
      },
      "execution_count": 19,
      "outputs": [
        {
          "output_type": "stream",
          "name": "stdout",
          "text": [
            "Number of observations: 150\n",
            "Missing values per column:\n",
            " Id                   0\n",
            "sepal length (cm)    0\n",
            "sepal width (cm)     0\n",
            "petal length (cm)    0\n",
            "petal width (cm)     0\n",
            "Species              0\n",
            "dtype: int64\n"
          ]
        }
      ]
    },
    {
      "cell_type": "code",
      "source": [
        "print(df.describe())"
      ],
      "metadata": {
        "colab": {
          "base_uri": "https://localhost:8080/"
        },
        "id": "YWIttPZHsDgw",
        "outputId": "c897b4d0-f9f7-4aba-ec7b-cb632dfe86d1"
      },
      "execution_count": 20,
      "outputs": [
        {
          "output_type": "stream",
          "name": "stdout",
          "text": [
            "               Id  sepal length (cm)  sepal width (cm)  petal length (cm)  \\\n",
            "count  150.000000         150.000000        150.000000         150.000000   \n",
            "mean    75.500000           5.843333          3.057333           3.758000   \n",
            "std     43.445368           0.828066          0.435866           1.765298   \n",
            "min      1.000000           4.300000          2.000000           1.000000   \n",
            "25%     38.250000           5.100000          2.800000           1.600000   \n",
            "50%     75.500000           5.800000          3.000000           4.350000   \n",
            "75%    112.750000           6.400000          3.300000           5.100000   \n",
            "max    150.000000           7.900000          4.400000           6.900000   \n",
            "\n",
            "       petal width (cm)  \n",
            "count        150.000000  \n",
            "mean           1.199333  \n",
            "std            0.762238  \n",
            "min            0.100000  \n",
            "25%            0.300000  \n",
            "50%            1.300000  \n",
            "75%            1.800000  \n",
            "max            2.500000  \n"
          ]
        }
      ]
    },
    {
      "cell_type": "code",
      "source": [
        "for species in df['Species'].unique():\n",
        "    print(f\"\\nObservations for {species}:\")\n",
        "    print(df[df['Species'] == species].head(3))"
      ],
      "metadata": {
        "colab": {
          "base_uri": "https://localhost:8080/"
        },
        "id": "hTrtFvCgsLBI",
        "outputId": "f302b240-72f8-4e8f-c0d4-c62092967aa5"
      },
      "execution_count": 21,
      "outputs": [
        {
          "output_type": "stream",
          "name": "stdout",
          "text": [
            "\n",
            "Observations for setosa:\n",
            "   Id  sepal length (cm)  sepal width (cm)  petal length (cm)  \\\n",
            "0   1                5.1               3.5                1.4   \n",
            "1   2                4.9               3.0                1.4   \n",
            "2   3                4.7               3.2                1.3   \n",
            "\n",
            "   petal width (cm) Species  \n",
            "0               0.2  setosa  \n",
            "1               0.2  setosa  \n",
            "2               0.2  setosa  \n",
            "\n",
            "Observations for versicolor:\n",
            "    Id  sepal length (cm)  sepal width (cm)  petal length (cm)  \\\n",
            "50  51                7.0               3.2                4.7   \n",
            "51  52                6.4               3.2                4.5   \n",
            "52  53                6.9               3.1                4.9   \n",
            "\n",
            "    petal width (cm)     Species  \n",
            "50               1.4  versicolor  \n",
            "51               1.5  versicolor  \n",
            "52               1.5  versicolor  \n",
            "\n",
            "Observations for virginica:\n",
            "      Id  sepal length (cm)  sepal width (cm)  petal length (cm)  \\\n",
            "100  101                6.3               3.3                6.0   \n",
            "101  102                5.8               2.7                5.1   \n",
            "102  103                7.1               3.0                5.9   \n",
            "\n",
            "     petal width (cm)    Species  \n",
            "100               2.5  virginica  \n",
            "101               1.9  virginica  \n",
            "102               2.1  virginica  \n"
          ]
        }
      ]
    },
    {
      "cell_type": "code",
      "source": [
        "df_no_id = df.drop(columns='Id')\n",
        "print(df_no_id.head())\n",
        "df_no_id.drop(columns='Species').plot(kind='box', figsize=(10,5))\n",
        "plt.title(\"Box Plot of Iris Features\")\n",
        "plt.show()"
      ],
      "metadata": {
        "colab": {
          "base_uri": "https://localhost:8080/",
          "height": 694
        },
        "id": "eCaLC9iL1sR9",
        "outputId": "f4c25faf-37a1-4b9f-fb52-df9409373fe0"
      },
      "execution_count": 22,
      "outputs": [
        {
          "output_type": "stream",
          "name": "stdout",
          "text": [
            "   sepal length (cm)  sepal width (cm)  petal length (cm)  petal width (cm)  \\\n",
            "0                5.1               3.5                1.4               0.2   \n",
            "1                4.9               3.0                1.4               0.2   \n",
            "2                4.7               3.2                1.3               0.2   \n",
            "3                4.6               3.1                1.5               0.2   \n",
            "4                5.0               3.6                1.4               0.2   \n",
            "\n",
            "  Species  \n",
            "0  setosa  \n",
            "1  setosa  \n",
            "2  setosa  \n",
            "3  setosa  \n",
            "4  setosa  \n"
          ]
        },
        {
          "output_type": "display_data",
          "data": {
            "text/plain": [
              "<Figure size 1000x500 with 1 Axes>"
            ],
            "image/png": "[encoded data removed]"
          },
          "metadata": {}
        }
      ]
    },
    {
      "cell_type": "code",
      "source": [
        "sns.countplot(x='Species', data=df)\n",
        "plt.title(\"Frequency of Iris Species\")\n",
        "plt.show()"
      ],
      "metadata": {
        "colab": {
          "base_uri": "https://localhost:8080/",
          "height": 472
        },
        "id": "ZwJ60pn118tm",
        "outputId": "810ccb2c-3f95-401b-95f9-ba6d7c174085"
      },
      "execution_count": 23,
      "outputs": [
        {
          "output_type": "display_data",
          "data": {
            "text/plain": [
              "<Figure size 640x480 with 1 Axes>"
            ],
            "image/png": "[encoded data removed]"
          },
          "metadata": {}
        }
      ]
    },
    {
      "cell_type": "code",
      "source": [
        "X = df.iloc[:, 0:4]\n",
        "y = df['Species']\n",
        "print(\"Attributes (X):\\n\", X.head())\n",
        "print(\"\\nLabels (y):\\n\", y.head())"
      ],
      "metadata": {
        "colab": {
          "base_uri": "https://localhost:8080/"
        },
        "id": "BQGdchDu24a-",
        "outputId": "0dbd71a8-6d07-4b86-a816-f744bea522c2"
      },
      "execution_count": 25,
      "outputs": [
        {
          "output_type": "stream",
          "name": "stdout",
          "text": [
            "Attributes (X):\n",
            "    Id  sepal length (cm)  sepal width (cm)  petal length (cm)\n",
            "0   1                5.1               3.5                1.4\n",
            "1   2                4.9               3.0                1.4\n",
            "2   3                4.7               3.2                1.3\n",
            "3   4                4.6               3.1                1.5\n",
            "4   5                5.0               3.6                1.4\n",
            "\n",
            "Labels (y):\n",
            " 0    setosa\n",
            "1    setosa\n",
            "2    setosa\n",
            "3    setosa\n",
            "4    setosa\n",
            "Name: Species, dtype: category\n",
            "Categories (3, object): ['setosa', 'versicolor', 'virginica']\n"
          ]
        }
      ]
    },
    {
      "cell_type": "code",
      "source": [
        "\n",
        "X_train, X_test, y_train, y_test = train_test_split(\n",
        "    X, y, test_size=0.3, random_state=42\n",
        ")\n",
        "print(\"X_train shape:\", X_train.shape)\n",
        "print(\"X_test shape:\", X_test.shape)\n",
        "print(\"y_train shape:\", y_train.shape)\n",
        "print(\"y_test shape:\", y_test.shape)\n",
        "print(\"\\n=== Training Data (first 5) ===\\n\", X_train.head())\n",
        "print(\"\\n=== Test Data (first 5) ===\\n\", X_test.head())\n"
      ],
      "metadata": {
        "colab": {
          "base_uri": "https://localhost:8080/"
        },
        "id": "6Uaa6e1I2DAm",
        "outputId": "4aeaee60-81e8-4e6b-da25-0aea36bca04e"
      },
      "execution_count": 27,
      "outputs": [
        {
          "output_type": "stream",
          "name": "stdout",
          "text": [
            "X_train shape: (105, 4)\n",
            "X_test shape: (45, 4)\n",
            "y_train shape: (105,)\n",
            "y_test shape: (45,)\n",
            "\n",
            "=== Training Data (first 5) ===\n",
            "       Id  sepal length (cm)  sepal width (cm)  petal length (cm)\n",
            "81    82                5.5               2.4                3.7\n",
            "133  134                6.3               2.8                5.1\n",
            "137  138                6.4               3.1                5.5\n",
            "75    76                6.6               3.0                4.4\n",
            "109  110                7.2               3.6                6.1\n",
            "\n",
            "=== Test Data (first 5) ===\n",
            "       Id  sepal length (cm)  sepal width (cm)  petal length (cm)\n",
            "73    74                6.1               2.8                4.7\n",
            "18    19                5.7               3.8                1.7\n",
            "118  119                7.7               2.6                6.9\n",
            "78    79                6.0               2.9                4.5\n",
            "76    77                6.8               2.8                4.8\n"
          ]
        }
      ]
    },
    {
      "cell_type": "code",
      "source": [
        "df['Species_Code'] = df['Species'].map({'setosa':0, 'versicolor':1, 'virginica':2})\n",
        "print(df[['Species', 'Species_Code']].head())\n",
        "X = df.iloc[:, 0:4]\n",
        "y = df['Species_Code']\n",
        "X_train, X_test, y_train, y_test = train_test_split(\n",
        "    X, y, test_size=0.2, random_state=42\n",
        ")\n",
        "print(\"Train shape:\", X_train.shape, y_train.shape)\n",
        "print(\"Test shape:\", X_test.shape, y_test.shape)\n",
        "print(\"\\n=== Training Data (first 5) ===\\n\", X_train.head())\n",
        "print(\"\\n=== Test Data (first 5) ===\\n\", X_test.head())"
      ],
      "metadata": {
        "colab": {
          "base_uri": "https://localhost:8080/"
        },
        "id": "mssFr5ra29EO",
        "outputId": "8f1b60c9-8ffd-4c74-c6b4-b4db342bac0e"
      },
      "execution_count": 28,
      "outputs": [
        {
          "output_type": "stream",
          "name": "stdout",
          "text": [
            "  Species Species_Code\n",
            "0  setosa            0\n",
            "1  setosa            0\n",
            "2  setosa            0\n",
            "3  setosa            0\n",
            "4  setosa            0\n",
            "Train shape: (120, 4) (120,)\n",
            "Test shape: (30, 4) (30,)\n",
            "\n",
            "=== Training Data (first 5) ===\n",
            "     Id  sepal length (cm)  sepal width (cm)  petal length (cm)\n",
            "22  23                4.6               3.6                1.0\n",
            "15  16                5.7               4.4                1.5\n",
            "65  66                6.7               3.1                4.4\n",
            "11  12                4.8               3.4                1.6\n",
            "42  43                4.4               3.2                1.3\n",
            "\n",
            "=== Test Data (first 5) ===\n",
            "       Id  sepal length (cm)  sepal width (cm)  petal length (cm)\n",
            "73    74                6.1               2.8                4.7\n",
            "18    19                5.7               3.8                1.7\n",
            "118  119                7.7               2.6                6.9\n",
            "78    79                6.0               2.9                4.5\n",
            "76    77                6.8               2.8                4.8\n"
          ]
        }
      ]
    },
    {
      "cell_type": "code",
      "source": [
        "#Week 3\n",
        "import pandas as pd\n",
        "import numpy as np\n",
        "import matplotlib.pyplot as plt\n",
        "import seaborn as sns\n",
        "\n",
        "diab = pd.read_csv('/content/diabetes.csv')\n",
        "#print(diab)\n",
        "\n",
        "X = diab.drop(columns='Outcome')\n",
        "y = diab[\"Outcome\"]\n",
        "print(X)\n",
        "print(y)\n"
      ],
      "metadata": {
        "colab": {
          "base_uri": "https://localhost:8080/"
        },
        "id": "8RR3khN-2-E-",
        "outputId": "027c1a83-f44d-43e3-e1ab-09f3375d38a6"
      },
      "execution_count": 69,
      "outputs": [
        {
          "output_type": "stream",
          "name": "stdout",
          "text": [
            "     Pregnancies  Glucose  BloodPressure  SkinThickness  Insulin   BMI  \\\n",
            "0              6      148             72             35        0  33.6   \n",
            "1              1       85             66             29        0  26.6   \n",
            "2              8      183             64              0        0  23.3   \n",
            "3              1       89             66             23       94  28.1   \n",
            "4              0      137             40             35      168  43.1   \n",
            "..           ...      ...            ...            ...      ...   ...   \n",
            "763           10      101             76             48      180  32.9   \n",
            "764            2      122             70             27        0  36.8   \n",
            "765            5      121             72             23      112  26.2   \n",
            "766            1      126             60              0        0  30.1   \n",
            "767            1       93             70             31        0  30.4   \n",
            "\n",
            "     DiabetesPedigreeFunction  Age  \n",
            "0                       0.627   50  \n",
            "1                       0.351   31  \n",
            "2                       0.672   32  \n",
            "3                       0.167   21  \n",
            "4                       2.288   33  \n",
            "..                        ...  ...  \n",
            "763                     0.171   63  \n",
            "764                     0.340   27  \n",
            "765                     0.245   30  \n",
            "766                     0.349   47  \n",
            "767                     0.315   23  \n",
            "\n",
            "[768 rows x 8 columns]\n",
            "0      1\n",
            "1      0\n",
            "2      1\n",
            "3      0\n",
            "4      1\n",
            "      ..\n",
            "763    0\n",
            "764    0\n",
            "765    0\n",
            "766    1\n",
            "767    0\n",
            "Name: Outcome, Length: 768, dtype: int64\n"
          ]
        }
      ]
    },
    {
      "cell_type": "code",
      "source": [
        "X_train,X_test,y_train,y_test = train_test_split(diab.drop(columns=\"Outcome\"),diab[\"Outcome\"],test_size=0.4,random_state=69)\n",
        "constant_features = [features for features in X_train.columns if X_train[features].std() == 0]\n",
        "len(constant_features)"
      ],
      "metadata": {
        "colab": {
          "base_uri": "https://localhost:8080/"
        },
        "id": "JBdHXWSF6eI2",
        "outputId": "5e5f4806-7826-4da5-ae14-001acdc7841f"
      },
      "execution_count": 67,
      "outputs": [
        {
          "output_type": "execute_result",
          "data": {
            "text/plain": [
              "0"
            ]
          },
          "metadata": {},
          "execution_count": 67
        }
      ]
    },
    {
      "cell_type": "code",
      "source": [],
      "metadata": {
        "id": "GoexX3mOC-N2"
      },
      "execution_count": 69,
      "outputs": []
    }
  ]
}